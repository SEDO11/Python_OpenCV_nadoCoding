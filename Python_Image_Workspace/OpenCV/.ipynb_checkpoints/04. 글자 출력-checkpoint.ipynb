{
 "cells": [
  {
   "cell_type": "markdown",
   "id": "6b46a1d0",
   "metadata": {},
   "source": [
    "# 4. 텍스트"
   ]
  },
  {
   "cell_type": "markdown",
   "id": "5ef58c89",
   "metadata": {},
   "source": [
    "## OpenCV에서 사용하는 글꼴 종류\n",
    "1. cv2.FONT_HERSHEY_SIMPLEX : 보통 크기의 산 세리프 글꼴\n",
    "1. cv2.FONT_HERSHEY_PLAIN : 작은 크기의 산 세리프 글꼴\n",
    "1. cv2.FONT_HERSHEY_SCRIPT_SIMPLEX : 필기체 스타일 글꼴\n",
    "1. cv2.FONT_HERSHEY_TRIPLEX : 보통 크기의 세리프 글꼴\n",
    "1. cv2.FONT_ITALIC : 이탤릭체"
   ]
  },
  {
   "cell_type": "markdown",
   "id": "bb758d7c",
   "metadata": {},
   "source": [
    "## 영어"
   ]
  },
  {
   "cell_type": "code",
   "execution_count": 14,
   "id": "286b1605",
   "metadata": {},
   "outputs": [],
   "source": [
    "import numpy as np\n",
    "import cv2\n",
    "\n",
    "img = np.zeros((480, 640, 3), dtype=np.uint8)\n",
    "\n",
    "SCALE = 2 # 폰트 크기\n",
    "COLOR = (255, 255, 255) # 흰색\n",
    "THICKNESS = 1 # 두께\n",
    "\n",
    "cv2.putText(img, \"SEDO Simplex\", (20, 50), cv2.FONT_HERSHEY_SIMPLEX, SCALE, COLOR, THICKNESS)\n",
    "# 그릴위치, 텍스트내용, 시작위치, 폰트종류, 크기, 색깔, 두께\n",
    "cv2.putText(img, \"SEDO Plan\", (20, 150), cv2.FONT_HERSHEY_PLAIN, SCALE, COLOR, THICKNESS)\n",
    "cv2.putText(img, \"SEDO Soript\", (20, 250), cv2.FONT_HERSHEY_SCRIPT_SIMPLEX , SCALE, COLOR, THICKNESS)\n",
    "cv2.putText(img, \"SEDO Triplex\", (20, 350), cv2.FONT_HERSHEY_TRIPLEX, SCALE, COLOR, THICKNESS)\n",
    "cv2.putText(img, \"SEDO Italic\", (20, 450), cv2.FONT_ITALIC, SCALE, COLOR, THICKNESS)\n",
    "\n",
    "cv2.imshow('img', img)\n",
    "cv2.waitKey(0)\n",
    "cv2.destroyAllWindows()"
   ]
  },
  {
   "cell_type": "markdown",
   "id": "efd0e785",
   "metadata": {},
   "source": [
    "## 한글"
   ]
  },
  {
   "cell_type": "code",
   "execution_count": 15,
   "id": "a71cd041",
   "metadata": {},
   "outputs": [],
   "source": [
    "import numpy as np\n",
    "import cv2\n",
    "\n",
    "img = np.zeros((480, 640, 3), dtype=np.uint8)\n",
    "\n",
    "SCALE = 2 # 폰트 크기\n",
    "COLOR = (255, 255, 255) # 흰색\n",
    "THICKNESS = 1 # 두께\n",
    "\n",
    "cv2.putText(img, \"한글\", (20, 50), cv2.FONT_HERSHEY_SIMPLEX, SCALE, COLOR, THICKNESS)\n",
    "# 그릴위치, 텍스트내용, 시작위치, 폰트종류, 크기, 색깔, 두께\n",
    "\n",
    "cv2.imshow('img', img)\n",
    "cv2.waitKey(0)\n",
    "cv2.destroyAllWindows()"
   ]
  },
  {
   "cell_type": "markdown",
   "id": "6e77d5b6",
   "metadata": {},
   "source": [
    "## 한글 우회 방법"
   ]
  },
  {
   "cell_type": "code",
   "execution_count": 19,
   "id": "731c0cb2",
   "metadata": {},
   "outputs": [],
   "source": [
    "import numpy as np\n",
    "import cv2\n",
    "from PIL import ImageFont, ImageDraw, Image\n",
    "\n",
    "def myPutText(src, text, pos, font_size, font_color):\n",
    "    img_pil = Image.fromarray(src)\n",
    "    draw = ImageDraw.Draw(img_pil)\n",
    "    font = ImageFont.truetype('fonts/gulim.ttc', font_size)\n",
    "    draw.text(pos, text, font= font, fill=font_color)\n",
    "    return np.array(img_pil)\n",
    "\n",
    "img = np.zeros((480, 640, 3), dtype=np.uint8)\n",
    "\n",
    "FONT_SIZE = 50\n",
    "COLOR = (255, 255, 255) # 흰색\n",
    "\n",
    "\n",
    "#  cv2.putText(img, \"한글\", (20, 50), cv2.FONT_HERSHEY_SIMPLEX, SCALE, COLOR, THICKNESS)\n",
    "# 그릴위치, 텍스트내용, 시작위치, 폰트종류, 크기, 색깔, 두께\n",
    "img = myPutText(img, \"나도 코딩\", (20, 50), FONT_SIZE, COLOR)\n",
    "\n",
    "cv2.imshow('img', img)\n",
    "cv2.waitKey(0)\n",
    "cv2.destroyAllWindows()"
   ]
  }
 ],
 "metadata": {
  "kernelspec": {
   "display_name": "Python 3 (ipykernel)",
   "language": "python",
   "name": "python3"
  },
  "language_info": {
   "codemirror_mode": {
    "name": "ipython",
    "version": 3
   },
   "file_extension": ".py",
   "mimetype": "text/x-python",
   "name": "python",
   "nbconvert_exporter": "python",
   "pygments_lexer": "ipython3",
   "version": "3.9.7"
  }
 },
 "nbformat": 4,
 "nbformat_minor": 5
}
