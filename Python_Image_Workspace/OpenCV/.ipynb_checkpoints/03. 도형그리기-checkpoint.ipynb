{
 "cells": [
  {
   "cell_type": "markdown",
   "id": "a43e1849",
   "metadata": {},
   "source": [
    "# 3. 도형 그리기"
   ]
  },
  {
   "cell_type": "markdown",
   "id": "f9767a73",
   "metadata": {},
   "source": [
    "##  빈 스케치북 만들기"
   ]
  },
  {
   "cell_type": "code",
   "execution_count": 36,
   "id": "f50127cd",
   "metadata": {},
   "outputs": [
    {
     "name": "stdout",
     "output_type": "stream",
     "text": [
      "[[[255 255 255]\n",
      "  [255 255 255]\n",
      "  [255 255 255]\n",
      "  ...\n",
      "  [255 255 255]\n",
      "  [255 255 255]\n",
      "  [255 255 255]]\n",
      "\n",
      " [[255 255 255]\n",
      "  [255 255 255]\n",
      "  [255 255 255]\n",
      "  ...\n",
      "  [255 255 255]\n",
      "  [255 255 255]\n",
      "  [255 255 255]]\n",
      "\n",
      " [[255 255 255]\n",
      "  [255 255 255]\n",
      "  [255 255 255]\n",
      "  ...\n",
      "  [255 255 255]\n",
      "  [255 255 255]\n",
      "  [255 255 255]]\n",
      "\n",
      " ...\n",
      "\n",
      " [[255 255 255]\n",
      "  [255 255 255]\n",
      "  [255 255 255]\n",
      "  ...\n",
      "  [255 255 255]\n",
      "  [255 255 255]\n",
      "  [255 255 255]]\n",
      "\n",
      " [[255 255 255]\n",
      "  [255 255 255]\n",
      "  [255 255 255]\n",
      "  ...\n",
      "  [255 255 255]\n",
      "  [255 255 255]\n",
      "  [255 255 255]]\n",
      "\n",
      " [[255 255 255]\n",
      "  [255 255 255]\n",
      "  [255 255 255]\n",
      "  ...\n",
      "  [255 255 255]\n",
      "  [255 255 255]\n",
      "  [255 255 255]]]\n"
     ]
    }
   ],
   "source": [
    "import cv2\n",
    "import numpy as np\n",
    "\n",
    "# 세로 480 x 가로 640, 3 채널 (RGB) 에 해당하는 스케치북 만들기\n",
    "img = np.zeros((480, 640, 3), dtype=np.uint8) #가로, 세로, 채널 / 전체 공간을 검은색으로 채움\n",
    "img[:] = (255, 255, 255) # 전체 공간을 흰색으로 채움 / B, G, R\n",
    "print(img)\n",
    "\n",
    "cv2.imshow('img', img)\n",
    "cv2.waitKey(0)\n",
    "cv2.destroyAllWindows()"
   ]
  },
  {
   "cell_type": "markdown",
   "id": "e9452a0a",
   "metadata": {},
   "source": [
    "# 일부 영역 색칠"
   ]
  },
  {
   "cell_type": "code",
   "execution_count": 38,
   "id": "a06a70de",
   "metadata": {},
   "outputs": [],
   "source": [
    "import cv2\n",
    "import numpy as np\n",
    "\n",
    "img = np.zeros((480, 640, 3), dtype=np.uint8) #가로, 세로, 채널 / 전체 공간을 검은색으로 채움\n",
    "img[100:200, 200:300] = (255, 255, 255)# 세로, 가로\n",
    "\n",
    "cv2.imshow('img', img)\n",
    "cv2.waitKey(0)\n",
    "cv2.destroyAllWindows()"
   ]
  },
  {
   "cell_type": "markdown",
   "id": "628ba1b7",
   "metadata": {},
   "source": [
    "## 직선\n",
    "직선의 종류\n",
    "\n",
    "1. cv2.LINE_4 : 상하좌우 4방향으로 연결된 선\n",
    "1. cv2.LINE_8 : 대각선을 포함한 8 방향으로 연결된 선(기본값)\n",
    "1. cv2.LINE_AA : 부드러운 선"
   ]
  },
  {
   "cell_type": "code",
   "execution_count": 39,
   "id": "a03a9940",
   "metadata": {},
   "outputs": [],
   "source": [
    "import cv2\n",
    "import numpy as np\n",
    "\n",
    "img = np.zeros((480, 640, 3), dtype=np.uint8)\n",
    "\n",
    "COLOR = (0, 255, 255) # BGR : Yellow, 색깔\n",
    "THICKNESS = 3 # 선 두께\n",
    "\n",
    "# 그릴 위치, 시작 점, 끝 점, 색깔, 두께, 선 종류\n",
    "cv2.line(img, (50, 100), (400, 50), COLOR, THICKNESS, cv2.LINE_8)\n",
    "cv2.line(img, (50, 200), (400, 150), COLOR, THICKNESS, cv2.LINE_4)\n",
    "cv2.line(img, (50, 300), (400, 250), COLOR, THICKNESS, cv2.LINE_AA)\n",
    "\n",
    "cv2.imshow('img', img)\n",
    "cv2.waitKey(0)\n",
    "cv2.destroyAllWindows()"
   ]
  },
  {
   "cell_type": "markdown",
   "id": "495232b0",
   "metadata": {},
   "source": [
    "## 원"
   ]
  },
  {
   "cell_type": "code",
   "execution_count": 40,
   "id": "0f33936e",
   "metadata": {},
   "outputs": [],
   "source": [
    "import cv2\n",
    "import numpy as np\n",
    "\n",
    "img = np.zeros((480, 640, 3), dtype=np.uint8)\n",
    "\n",
    "COLOR = (255, 255, 0) # BGR : 옥색\n",
    "RADIUS = 50 # 반지름\n",
    "THICKNESS = 10 # 선 두께\n",
    "\n",
    "# 그릴 위치, 원의 중심점, 색깔, 선 두께, 선 종류\n",
    "cv2.circle(img, (200, 100), RADIUS, COLOR, THICKNESS, cv2.LINE_AA) # 원 그리기\n",
    "cv2.circle(img, (400, 100), RADIUS, COLOR, cv2.FILLED, cv2.LINE_AA) # 원을 꽉 채운다.\n",
    "\n",
    "cv2.imshow('img', img)\n",
    "cv2.waitKey(0)\n",
    "cv2.destroyAllWindows()"
   ]
  },
  {
   "cell_type": "markdown",
   "id": "b618dc05",
   "metadata": {},
   "source": [
    "## 사각형"
   ]
  },
  {
   "cell_type": "code",
   "execution_count": 41,
   "id": "b7890691",
   "metadata": {},
   "outputs": [],
   "source": [
    "import cv2\n",
    "import numpy as np\n",
    "\n",
    "img = np.zeros((480, 640, 3), dtype=np.uint8)\n",
    "\n",
    "COLOR = (0, 255, 0) # BGR : 초록색\n",
    "THICKNESS = 3 # 선 두께\n",
    "\n",
    "# 그릴 위치, 왼쪽 위 좌표, 오른쪽 위 좌표, 색깔, 선 두께, 선 종류\n",
    "cv2.rectangle(img, (100, 100), (200, 200), COLOR, THICKNESS, cv2.LINE_AA)\n",
    "cv2.rectangle(img, (300, 100), (400, 300), COLOR, cv2.FILLED, cv2.LINE_AA)\n",
    "\n",
    "cv2.imshow('img', img)\n",
    "cv2.waitKey(0)\n",
    "cv2.destroyAllWindows()"
   ]
  },
  {
   "cell_type": "markdown",
   "id": "b14642b4",
   "metadata": {},
   "source": [
    "## 다각형"
   ]
  },
  {
   "cell_type": "code",
   "execution_count": 42,
   "id": "57ad79c5",
   "metadata": {},
   "outputs": [],
   "source": [
    "import cv2\n",
    "import numpy as np\n",
    "\n",
    "img = np.zeros((480, 640, 3), dtype=np.uint8)\n",
    "\n",
    "COLOR = (0, 0, 255) # BGR : 빨간색\n",
    "THICKNESS = 3 # 선 두께\n",
    "\n",
    "pts1 = np.array([[100, 100], [200, 100], [100, 200]]) # 포인터 선언\n",
    "pts2 = np.array([[200, 100], [300, 100], [300, 200]])\n",
    "\n",
    "# 그릴 위치, 그릴 좌표들, 닫힘여부, 색깔, 선 두께, 선 종류\n",
    "# cv2.polylines(img, [pts1], True, COLOR, THICKNESS, cv2.LINE_AA) # False일 때는 열린 도형, True일 때는 닫힌 도형\n",
    "# cv2.polylines(img, [pts2], True, COLOR, THICKNESS, cv2.LINE_AA) # False일 때는 열린 도형, True일 때는 닫힌 도형\n",
    "cv2.polylines(img, [pts1, pts2], True, COLOR, THICKNESS, cv2.LINE_AA) #위의 두개를 쓴 것과 같다\n",
    "\n",
    "# 그릴 위치, 그릴 좌표들, 색깔, 선 종류\n",
    "pts3 = np.array([[[100, 300], [200, 300], [100, 400]], [[200, 300], [300, 300], [300, 400]]])\n",
    "cv2.fillPoly(img, pts3, COLOR, cv2.LINE_AA) # 꽉 찬 다각형\n",
    "\n",
    "cv2.imshow('img', img)\n",
    "cv2.waitKey(0)\n",
    "cv2.destroyAllWindows()"
   ]
  },
  {
   "cell_type": "markdown",
   "id": "0b328222",
   "metadata": {},
   "source": [
    "## 사람 얼굴 그리기"
   ]
  },
  {
   "cell_type": "code",
   "execution_count": 50,
   "id": "8ba20d96",
   "metadata": {},
   "outputs": [],
   "source": [
    "import cv2\n",
    "import numpy as np\n",
    "\n",
    "img = np.zeros((800, 800, 3), dtype=np.uint8)\n",
    "\n",
    "COLOR = (255, 255, 255) # BGR : 흰색\n",
    "RADIUS_EYE = 50 # 눈 반지름\n",
    "RADIUS_MOUSE = 80 # 입 반지름\n",
    "RADIUS_FACE = 300 # 얼굴 반지름\n",
    "THICKNESS = 10 # 선 두께\n",
    "\n",
    "# 그릴 위치, 원의 중심점, 색깔, 선 두께, 선 종류\n",
    "cv2.circle(img, (300, 250), RADIUS_EYE, COLOR, cv2.FILLED, cv2.LINE_AA) # 원 그리기\n",
    "cv2.circle(img, (500, 250), RADIUS_EYE, COLOR, cv2.FILLED, cv2.LINE_AA) # 원을 꽉 채운다.\n",
    "cv2.circle(img, (400, 500), RADIUS_MOUSE, COLOR, THICKNESS, cv2.LINE_AA) # 원을 꽉 채운다.\n",
    "cv2.circle(img, (400, 400), RADIUS_FACE, COLOR, THICKNESS, cv2.LINE_AA) # 원을 꽉 채운다.\n",
    "\n",
    "cv2.imshow('img', img)\n",
    "cv2.waitKey(0)\n",
    "cv2.destroyAllWindows()"
   ]
  },
  {
   "cell_type": "markdown",
   "id": "d4e78374",
   "metadata": {},
   "source": [
    "## 다각형 응용"
   ]
  },
  {
   "cell_type": "code",
   "execution_count": 57,
   "id": "33571b9a",
   "metadata": {},
   "outputs": [],
   "source": [
    "import cv2\n",
    "import numpy as np\n",
    "\n",
    "img = np.zeros((480, 640, 3), dtype=np.uint8)\n",
    "\n",
    "COLOR = (0, 0, 255) # BGR : 빨간색\n",
    "THICKNESS = 3 # 선 두께\n",
    "\n",
    "pts1 = np.array([[[100, 100], [200, 100], [100, 200]], [[200, 100], [300, 100], [300, 200]]])\n",
    "pts2 = np.array([[[100, 300], [200, 300], [100, 200]], [[200, 300], [300, 300], [300, 200]]])\n",
    "\n",
    "# 그릴 위치, 그릴 좌표들, 닫힘여부, 색깔, 선 두께, 선 종류\n",
    "cv2.fillPoly(img, pts1, COLOR, cv2.LINE_AA)\n",
    "# 그릴 위치, 그릴 좌표들, 색깔, 선 종류\n",
    "cv2.fillPoly(img, pts2, COLOR, cv2.LINE_AA)\n",
    "\n",
    "cv2.imshow('img', img)\n",
    "cv2.waitKey(0)\n",
    "cv2.destroyAllWindows()"
   ]
  },
  {
   "cell_type": "code",
   "execution_count": null,
   "id": "48d8f3fd",
   "metadata": {},
   "outputs": [],
   "source": []
  }
 ],
 "metadata": {
  "kernelspec": {
   "display_name": "Python 3 (ipykernel)",
   "language": "python",
   "name": "python3"
  },
  "language_info": {
   "codemirror_mode": {
    "name": "ipython",
    "version": 3
   },
   "file_extension": ".py",
   "mimetype": "text/x-python",
   "name": "python",
   "nbconvert_exporter": "python",
   "pygments_lexer": "ipython3",
   "version": "3.9.7"
  }
 },
 "nbformat": 4,
 "nbformat_minor": 5
}
