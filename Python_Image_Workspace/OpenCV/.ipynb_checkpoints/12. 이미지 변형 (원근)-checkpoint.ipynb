{
 "cells": [
  {
   "cell_type": "markdown",
   "id": "700db2e5",
   "metadata": {},
   "source": [
    "# 12. 이미지 변형 (원근)"
   ]
  },
  {
   "cell_type": "markdown",
   "id": "9b3623a4",
   "metadata": {},
   "source": [
    "## 사다리꼴 이미지 펼치기"
   ]
  },
  {
   "cell_type": "code",
   "execution_count": 4,
   "id": "be1b6aba",
   "metadata": {},
   "outputs": [],
   "source": [
    "import cv2\n",
    "import numpy as np\n",
    "\n",
    "img = cv2.imread('newspaper.jpg')\n",
    "\n",
    "width, height = 640, 240 # 가로 크기 640, 세로 크기 240\n",
    "\n",
    "# 좌상, 우상, 우하, 좌하 좌표를 기준으로 이미지 추출\n",
    "src = np.array([[511, 352], [1008, 345], [1122, 584], [455, 594]], dtype=np.float32)\n",
    "#이미지 붙혀넣기\n",
    "dst = np.array([[0, 0], [width, 0], [width, height], [0, height]], dtype=np.float32)\n",
    "\n",
    "matrix = cv2.getPerspectiveTransform(src, dst) # matrix를 얻어옴\n",
    "result = cv2.warpPerspective(img, matrix, (width, height)) # matrix 대로 변환\n",
    "\n",
    "cv2.imshow('img', img) # 원본 이미지\n",
    "cv2.imshow('result', result) # 추출 이미지\n",
    "cv2.waitKey(0)\n",
    "cv2.destroyAllWindows()"
   ]
  },
  {
   "cell_type": "markdown",
   "id": "4949a952",
   "metadata": {},
   "source": [
    "## 회전된 이미지 올바르게 세우기"
   ]
  },
  {
   "cell_type": "code",
   "execution_count": 8,
   "id": "3308237c",
   "metadata": {},
   "outputs": [],
   "source": [
    "import cv2\n",
    "import numpy as np\n",
    "\n",
    "img = cv2.imread('poker.jpg')\n",
    "\n",
    "width, height = 600, 800 # 가로 크기 640, 세로 크기 240\n",
    "\n",
    "# 좌상, 우상, 우하, 좌하 좌표를 기준으로 이미지 추출\n",
    "src = np.array([[704, 141], [1140, 418], [726, 1011], [270, 700]], dtype=np.float32)\n",
    "#이미지 붙혀넣기\n",
    "dst = np.array([[0, 0], [width, 0], [width, height], [0, height]], dtype=np.float32)\n",
    "\n",
    "matrix = cv2.getPerspectiveTransform(src, dst) # matrix를 얻어옴\n",
    "result = cv2.warpPerspective(img, matrix, (width, height)) # matrix 대로 변환\n",
    "\n",
    "cv2.imshow('img', img) # 원본 이미지\n",
    "cv2.imshow('result', result) # 추출 이미지\n",
    "cv2.waitKey(0)\n",
    "cv2.destroyAllWindows()"
   ]
  },
  {
   "cell_type": "markdown",
   "id": "d43d1975",
   "metadata": {},
   "source": [
    "## 내 사진들로 테스트"
   ]
  },
  {
   "cell_type": "code",
   "execution_count": 1,
   "id": "6305c0ed",
   "metadata": {},
   "outputs": [],
   "source": [
    "import cv2\n",
    "import numpy as np\n",
    "\n",
    "img = cv2.imread('test1.jpg')\n",
    "\n",
    "width, height = 600, 400 # 가로 크기 640, 세로 크기 240\n",
    "\n",
    "# 좌상, 우상, 우하, 좌하 좌표를 기준으로 이미지 추출\n",
    "src = np.array([[789, 1056], [242, 834], [351, 487], [939, 599]], dtype=np.float32)\n",
    "#이미지 붙혀넣기\n",
    "dst = np.array([[0, 0], [width, 0], [width, height], [0, height]], dtype=np.float32)\n",
    "\n",
    "matrix = cv2.getPerspectiveTransform(src, dst) # matrix를 얻어옴\n",
    "result = cv2.warpPerspective(img, matrix, (width, height)) # matrix 대로 변환\n",
    "\n",
    "cv2.imshow('img', img) # 원본 이미지\n",
    "cv2.imshow('result', result) # 추출 이미지\n",
    "cv2.waitKey(0)\n",
    "cv2.destroyAllWindows()"
   ]
  },
  {
   "cell_type": "code",
   "execution_count": 2,
   "id": "f717a8cb",
   "metadata": {},
   "outputs": [],
   "source": [
    "import cv2\n",
    "import numpy as np\n",
    "\n",
    "img = cv2.imread('test2.jpg')\n",
    "\n",
    "width, height = 600, 600 # 가로 크기 640, 세로 크기 240\n",
    "\n",
    "# 좌상, 우상, 우하, 좌하 좌표를 기준으로 이미지 추출\n",
    "src = np.array([[92, 344], [938, 367], [922, 1051], [152, 1200]], dtype=np.float32)\n",
    "#이미지 붙혀넣기\n",
    "dst = np.array([[0, 0], [width, 0], [width, height], [0, height]], dtype=np.float32)\n",
    "\n",
    "matrix = cv2.getPerspectiveTransform(src, dst) # matrix를 얻어옴\n",
    "result = cv2.warpPerspective(img, matrix, (width, height)) # matrix 대로 변환\n",
    "\n",
    "cv2.imshow('img', img) # 원본 이미지\n",
    "cv2.imshow('result', result) # 추출 이미지\n",
    "cv2.waitKey(0)\n",
    "cv2.destroyAllWindows()"
   ]
  },
  {
   "cell_type": "code",
   "execution_count": 4,
   "id": "5080e7ec",
   "metadata": {},
   "outputs": [],
   "source": [
    "import cv2\n",
    "import numpy as np\n",
    "\n",
    "img = cv2.imread('test3.jpg')\n",
    "\n",
    "width, height = 900, 250 # 가로 크기 640, 세로 크기 240\n",
    "\n",
    "# 좌상, 우상, 우하, 좌하 좌표를 기준으로 이미지 추출\n",
    "src = np.array([[184, 640], [872, 681], [872, 841], [179, 863]], dtype=np.float32)\n",
    "#이미지 붙혀넣기\n",
    "dst = np.array([[0, 0], [width, 0], [width, height], [0, height]], dtype=np.float32)\n",
    "\n",
    "matrix = cv2.getPerspectiveTransform(src, dst) # matrix를 얻어옴\n",
    "result = cv2.warpPerspective(img, matrix, (width, height)) # matrix 대로 변환\n",
    "\n",
    "cv2.imshow('img', img) # 원본 이미지\n",
    "cv2.imshow('result', result) # 추출 이미지\n",
    "cv2.waitKey(0)\n",
    "cv2.destroyAllWindows()"
   ]
  }
 ],
 "metadata": {
  "kernelspec": {
   "display_name": "Python 3 (ipykernel)",
   "language": "python",
   "name": "python3"
  },
  "language_info": {
   "codemirror_mode": {
    "name": "ipython",
    "version": 3
   },
   "file_extension": ".py",
   "mimetype": "text/x-python",
   "name": "python",
   "nbconvert_exporter": "python",
   "pygments_lexer": "ipython3",
   "version": "3.9.7"
  }
 },
 "nbformat": 4,
 "nbformat_minor": 5
}
