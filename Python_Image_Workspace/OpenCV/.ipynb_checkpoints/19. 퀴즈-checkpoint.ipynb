{
 "cells": [
  {
   "cell_type": "markdown",
   "id": "c7ca5dd3",
   "metadata": {},
   "source": [
    "# 19. 퀴즈"
   ]
  },
  {
   "cell_type": "markdown",
   "id": "316f4729",
   "metadata": {},
   "source": [
    "## OpenCV를 이용하여 가로로 촬영된 영상을 세로로 회전하는 프로그램을 작성하시오"
   ]
  },
  {
   "cell_type": "markdown",
   "id": "0e1394a7",
   "metadata": {},
   "source": [
    "### 조건\n",
    "1. 회전: 시계 반대방향으로 90도\n",
    "1. 재생속도 (FPS) : 원본 x 4배\n",
    "1. 출력 파일명 : city_output.avi(코덱.divx)"
   ]
  },
  {
   "cell_type": "code",
   "execution_count": 11,
   "id": "97882358",
   "metadata": {},
   "outputs": [
    {
     "name": "stdout",
     "output_type": "stream",
     "text": [
      "사용자 입력에 의해 종료\n"
     ]
    }
   ],
   "source": [
    "import cv2\n",
    "cap = cv2.VideoCapture('city.mp4')\n",
    "\n",
    "#코덱 정의\n",
    "fourcc = cv2.VideoWriter_fourcc(*'DIVX') # D I V X 한글자씩 반환\n",
    "\n",
    "# 영상의 프레임 크기, FPS를 가져옴\n",
    "width = round(cap.get(cv2.CAP_PROP_FRAME_WIDTH)) # 영상의 크기 값 가져오기\n",
    "height = round(cap.get(cv2.CAP_PROP_FRAME_HEIGHT))\n",
    "fps = cap.get(cv2.CAP_PROP_FPS) * 4 # 원본의 4배의 속도\n",
    "\n",
    "out = cv2.VideoWriter('city_output.avi', fourcc, fps, (height, width))\n",
    "# 저장 파일 명, 코덱, fps, 가로 세로 크기\n",
    "\n",
    "while cap.isOpened(): # 동영상 파일이 올바로 열렸는지 확인\n",
    "    ret, frame = cap.read() # 성공여부, 프레임 값 반환\n",
    "    \n",
    "    if not ret: # 동영상이 종료 되었을 때\n",
    "        print('종료')\n",
    "        break\n",
    "    \n",
    "    # 시계 반대 방향으로 90도 회전\n",
    "    rotate_270 = cv2.rotate(frame, cv2.ROTATE_90_COUNTERCLOCKWISE)\n",
    "    out.write(rotate_270)\n",
    "    cv2.imshow('result', rotate_270)\n",
    "    \n",
    "    # 여기 waitKey의 값에 따라 속도가 달라짐 \n",
    "    if cv2.waitKey(1) == ord('q'): # 동영상이 종료되기 전, q를 누른 경우\n",
    "        print('사용자 입력에 의해 종료')\n",
    "        break\n",
    "\n",
    "out.release()\n",
    "cap.release() # 자원해제\n",
    "cv2.destroyAllWindows() # 모든 창 닫기"
   ]
  }
 ],
 "metadata": {
  "kernelspec": {
   "display_name": "Python 3 (ipykernel)",
   "language": "python",
   "name": "python3"
  },
  "language_info": {
   "codemirror_mode": {
    "name": "ipython",
    "version": 3
   },
   "file_extension": ".py",
   "mimetype": "text/x-python",
   "name": "python",
   "nbconvert_exporter": "python",
   "pygments_lexer": "ipython3",
   "version": "3.9.7"
  }
 },
 "nbformat": 4,
 "nbformat_minor": 5
}
