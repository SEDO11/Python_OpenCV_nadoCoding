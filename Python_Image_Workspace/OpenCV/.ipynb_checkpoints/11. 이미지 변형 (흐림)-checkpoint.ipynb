{
 "cells": [
  {
   "cell_type": "markdown",
   "id": "fd1eabd0",
   "metadata": {},
   "source": [
    "# 이미지 변형 (흐림)"
   ]
  },
  {
   "cell_type": "markdown",
   "id": "9c6f4257",
   "metadata": {},
   "source": [
    "## 가우시안 블러"
   ]
  },
  {
   "cell_type": "markdown",
   "id": "ebb1b1db",
   "metadata": {},
   "source": [
    "커널 사이즈 변화에 따른 흐림"
   ]
  },
  {
   "cell_type": "code",
   "execution_count": 3,
   "id": "0b4a7110",
   "metadata": {},
   "outputs": [],
   "source": [
    "import cv2\n",
    "img = cv2.imread('cat.jpg')\n",
    "\n",
    "l =  [(3, 3), (5, 5), (7, 7)]\n",
    "kernel_3 = cv2.GaussianBlur(img, l[0], 0)\n",
    "kernel_5 = cv2.GaussianBlur(img, l[1], 0)\n",
    "kernel_7 = cv2.GaussianBlur(img, l[2], 0)\n",
    "\n",
    "cv2.imshow('img', img)\n",
    "cv2.imshow('kernel_3', kernel_3)\n",
    "cv2.imshow('kernel_5', kernel_5)\n",
    "cv2.imshow('kernel_7', kernel_7)\n",
    "cv2.waitKey(0)\n",
    "cv2.destroyAllWindows()"
   ]
  },
  {
   "cell_type": "markdown",
   "id": "687ea0f5",
   "metadata": {},
   "source": [
    "표준 편차 변화에 따른 흐림"
   ]
  },
  {
   "cell_type": "code",
   "execution_count": 4,
   "id": "f829f2f1",
   "metadata": {},
   "outputs": [],
   "source": [
    "import cv2\n",
    "img = cv2.imread('cat.jpg')\n",
    "\n",
    "l =  [(0, 0), (3, 3), (5, 5), (7, 7)]\n",
    "sigma_1 = cv2.GaussianBlur(img, l[0], 1) # , 1) 여기는 sigmaX / 가우시간 커널의 x 방향의 표준편차\n",
    "sigma_2 = cv2.GaussianBlur(img, l[0], 2)\n",
    "sigma_3 = cv2.GaussianBlur(img, l[0], 3)\n",
    "\n",
    "cv2.imshow('img', img)\n",
    "cv2.imshow('sigma_1', sigma_1)\n",
    "cv2.imshow('sigma_2', sigma_2)\n",
    "cv2.imshow('sigma_3', sigma_3)\n",
    "cv2.waitKey(0)\n",
    "cv2.destroyAllWindows()"
   ]
  },
  {
   "cell_type": "code",
   "execution_count": null,
   "id": "b8095c02",
   "metadata": {},
   "outputs": [],
   "source": []
  }
 ],
 "metadata": {
  "kernelspec": {
   "display_name": "Python 3 (ipykernel)",
   "language": "python",
   "name": "python3"
  },
  "language_info": {
   "codemirror_mode": {
    "name": "ipython",
    "version": 3
   },
   "file_extension": ".py",
   "mimetype": "text/x-python",
   "name": "python",
   "nbconvert_exporter": "python",
   "pygments_lexer": "ipython3",
   "version": "3.9.7"
  }
 },
 "nbformat": 4,
 "nbformat_minor": 5
}
