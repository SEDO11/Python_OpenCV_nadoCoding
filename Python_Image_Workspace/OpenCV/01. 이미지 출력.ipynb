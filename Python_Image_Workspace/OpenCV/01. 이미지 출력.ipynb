{
 "cells": [
  {
   "cell_type": "markdown",
   "id": "8c55cf49",
   "metadata": {},
   "source": [
    "# 환경 설정\n",
    "Anaconda Prompt 에서 다음 명령 수행\n",
    "> pip install opencv-python"
   ]
  },
  {
   "cell_type": "code",
   "execution_count": 1,
   "id": "1e75fcd4",
   "metadata": {},
   "outputs": [
    {
     "data": {
      "text/plain": [
       "'4.5.5'"
      ]
     },
     "execution_count": 1,
     "metadata": {},
     "output_type": "execute_result"
    }
   ],
   "source": [
    "import cv2\n",
    "cv2.__version__"
   ]
  },
  {
   "cell_type": "markdown",
   "id": "943c6688",
   "metadata": {},
   "source": [
    "# OpenCv(Computer Vision)\n",
    "다양한 영상 (이미지) / 동영상 처리에 사용되는 오픈소스 라이브러리"
   ]
  },
  {
   "cell_type": "markdown",
   "id": "76c1c9c2",
   "metadata": {},
   "source": [
    "# 1. 이미지 출력"
   ]
  },
  {
   "cell_type": "code",
   "execution_count": 1,
   "id": "a6d91fae",
   "metadata": {},
   "outputs": [
    {
     "name": "stdout",
     "output_type": "stream",
     "text": [
      "-1\n"
     ]
    }
   ],
   "source": [
    "import cv2\n",
    "img = cv2.imread('cat.jpg') # 이미지 불러오기\n",
    "cv2.imshow('img', img) # 이미지를 보여줘라 / 창 이름, 보여줄 사진\n",
    "key = cv2.waitKey(0) # 지정된 시간동안 사용자 키 입력 대기, 키를 입력하면 닫음\n",
    "# cv2.waitKey(3000) # 3초 후 닫기\n",
    "print(key) # 누른 해당 키의 아스키 코드 값 출력\n",
    "if key == 65 or key == 97: # A, a 를 누를 경우 종료\n",
    "    cv2.destroyAllWindows() # 모든 창 닫기"
   ]
  },
  {
   "cell_type": "markdown",
   "id": "c0619b18",
   "metadata": {},
   "source": [
    "# 이미지 출력의 세 가지 옵션\n",
    "## 읽기 옵션\n",
    "1. cv2.IMREAD_COLOR : 컬러 이미지 가져오기, 투명 영역은 무시(기본값)\n",
    "1. cv2.IMREAD_GRAYSCALE : 흑백 이미지 가져오기\n",
    "1. cv2.IMREAD_UNCHANGED : 투명 영역 포함해서 이미지 가져오기\n"
   ]
  },
  {
   "cell_type": "code",
   "execution_count": 6,
   "id": "72a9ad92",
   "metadata": {},
   "outputs": [],
   "source": [
    "import cv2\n",
    "img_color = cv2.imread('cat.jpg', cv2.IMREAD_COLOR)\n",
    "img_gray = cv2.imread('cat.jpg', cv2.IMREAD_GRAYSCALE)\n",
    "img_unchanged = cv2.imread('cat.jpg', cv2.IMREAD_UNCHANGED)\n",
    "\n",
    "cv2.imshow('img_color', img_color)\n",
    "cv2.imshow('img_gray', img_gray)\n",
    "cv2.imshow('img_unchanged', img_unchanged)\n",
    "\n",
    "cv2.waitKey(0)\n",
    "cv2.destroyAllWindows()"
   ]
  },
  {
   "cell_type": "markdown",
   "id": "f1845aa8",
   "metadata": {},
   "source": [
    "## Shape\n",
    "이미지의 height, width, channel 정보"
   ]
  },
  {
   "cell_type": "code",
   "execution_count": 8,
   "id": "ace999c3",
   "metadata": {},
   "outputs": [
    {
     "name": "stdout",
     "output_type": "stream",
     "text": [
      "(390, 640, 3)\n"
     ]
    }
   ],
   "source": [
    "import cv2\n",
    "img = cv2.imread('cat.jpg')\n",
    "print(img.shape) # 세로, 가로, 채널정보"
   ]
  }
 ],
 "metadata": {
  "kernelspec": {
   "display_name": "Python 3 (ipykernel)",
   "language": "python",
   "name": "python3"
  },
  "language_info": {
   "codemirror_mode": {
    "name": "ipython",
    "version": 3
   },
   "file_extension": ".py",
   "mimetype": "text/x-python",
   "name": "python",
   "nbconvert_exporter": "python",
   "pygments_lexer": "ipython3",
   "version": "3.9.7"
  }
 },
 "nbformat": 4,
 "nbformat_minor": 5
}
