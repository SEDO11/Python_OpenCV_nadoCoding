{
 "cells": [
  {
   "cell_type": "markdown",
   "id": "f5630d52",
   "metadata": {},
   "source": [
    "# 5. 파일 저장"
   ]
  },
  {
   "cell_type": "markdown",
   "id": "2a4216af",
   "metadata": {},
   "source": [
    "## 이미지 저장"
   ]
  },
  {
   "cell_type": "code",
   "execution_count": 7,
   "id": "c7c196ea",
   "metadata": {},
   "outputs": [
    {
     "name": "stdout",
     "output_type": "stream",
     "text": [
      "True\n"
     ]
    }
   ],
   "source": [
    "import cv2\n",
    "img = cv2.imread('cat.jpg', cv2.IMREAD_GRAYSCALE)\n",
    "cv2.imshow('img', img) # 이미지 출력\n",
    "cv2.waitKey(0) # 사용자 입력 대기\n",
    "cv2.destroyAllWindows() # 종료\n",
    "\n",
    "result = cv2.imwrite('img_save.jpg', img) # 이미지 저장\n",
    "print(result) # 저장이 잘 됐는지 확인"
   ]
  },
  {
   "cell_type": "markdown",
   "id": "aa3c2245",
   "metadata": {},
   "source": [
    "## 이미지를 저장할 때에는 이렇게 작성해도 됨"
   ]
  },
  {
   "cell_type": "code",
   "execution_count": 8,
   "id": "76e461e6",
   "metadata": {},
   "outputs": [
    {
     "name": "stdout",
     "output_type": "stream",
     "text": [
      "True\n"
     ]
    }
   ],
   "source": [
    "import cv2\n",
    "img = cv2.imread('cat.jpg', cv2.IMREAD_GRAYSCALE)\n",
    "result = cv2.imwrite('img_save.jpg', img) # 이미지 저장\n",
    "print(result) # 저장이 잘 됐는지 확인"
   ]
  },
  {
   "cell_type": "markdown",
   "id": "25c49e9c",
   "metadata": {},
   "source": [
    "## 동영상 저장"
   ]
  },
  {
   "cell_type": "code",
   "execution_count": 16,
   "id": "1e6e99de",
   "metadata": {},
   "outputs": [],
   "source": [
    "import cv2\n",
    "cap = cv2.VideoCapture('Video1.mp4')\n",
    "\n",
    "#코덱 정의\n",
    "fourcc = cv2.VideoWriter_fourcc(*'DIVX') # D I V X 한글자씩 반환\n",
    "\n",
    "# 프레임 크기, FPS\n",
    "width = round(cap.get(cv2.CAP_PROP_FRAME_WIDTH)) # 영상의 크기 값 가져오기\n",
    "height = round(cap.get(cv2.CAP_PROP_FRAME_HEIGHT))\n",
    "fps = cap.get(cv2.CAP_PROP_FPS) # 영상재생 속도 조절 ex) *2 하면 두배가 됨\n",
    "               \n",
    "out = cv2.VideoWriter('output.avi', fourcc, fps, (width, height))\n",
    "# 저장 파일 명, 코덱, fps, 가로 세로 크기\n",
    "\n",
    "while cap.isOpened():\n",
    "    ret, frame = cap.read()\n",
    "    \n",
    "    if not ret:\n",
    "        break\n",
    "               \n",
    "    out.write(frame) # 영상 데이터만 저장(소리 x)\n",
    "    cv2.imshow('video', frame)\n",
    "    if cv2.waitKey(1) == ord('q'):\n",
    "        break\n",
    "        \n",
    "out.release() # 자원 해제\n",
    "cap.release()\n",
    "cv2.destroyAllWindows()"
   ]
  },
  {
   "cell_type": "code",
   "execution_count": 12,
   "id": "0629c4b8",
   "metadata": {},
   "outputs": [
    {
     "name": "stdout",
     "output_type": "stream",
     "text": [
      "DIVX\n",
      "D I V X\n",
      "['DIVX']\n",
      "['D', 'I', 'V', 'X']\n"
     ]
    }
   ],
   "source": [
    "codec = \"DIVX\"\n",
    "print(codec)\n",
    "print(*codec)\n",
    "print([codec])\n",
    "print([*codec])"
   ]
  }
 ],
 "metadata": {
  "kernelspec": {
   "display_name": "Python 3 (ipykernel)",
   "language": "python",
   "name": "python3"
  },
  "language_info": {
   "codemirror_mode": {
    "name": "ipython",
    "version": 3
   },
   "file_extension": ".py",
   "mimetype": "text/x-python",
   "name": "python",
   "nbconvert_exporter": "python",
   "pygments_lexer": "ipython3",
   "version": "3.9.7"
  }
 },
 "nbformat": 4,
 "nbformat_minor": 5
}
