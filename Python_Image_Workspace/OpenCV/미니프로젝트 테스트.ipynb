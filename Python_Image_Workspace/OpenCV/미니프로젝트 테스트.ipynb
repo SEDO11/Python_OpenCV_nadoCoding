{
 "cells": [
  {
   "cell_type": "markdown",
   "id": "c65dd273",
   "metadata": {},
   "source": [
    "## 그림 그리기"
   ]
  },
  {
   "cell_type": "code",
   "execution_count": 29,
   "id": "0d463974",
   "metadata": {},
   "outputs": [],
   "source": [
    "import cv2\n",
    "\n",
    "point_xy = []\n",
    "src_img = cv2.imread('poker.jpg')\n",
    "\n",
    "COLOR = (255, 0, 0)\n",
    "radius = 1\n",
    "\n",
    "def mouse_handler(event, x, y, flags, param):\n",
    "    global radius\n",
    "    if event == cv2.EVENT_MOUSEMOVE: # 마우스가 움직이는 경우\n",
    "        if flags and cv2.EVENT_FLAG_LBUTTON: # 마우스 왼쪽 버튼이 눌러져있는 경우\n",
    "            cv2.circle(src_img, (x, y), radius, COLOR, cv2.FILLED)  \n",
    "\n",
    "    elif event == cv2.EVENT_MOUSEWHEEL: # 마우스 휠을 사용할 경우\n",
    "        if flags > 0: # 휠을 올렸을 때\n",
    "            radius += 1\n",
    "        elif radius > 1: # 휠을 내리고 굵기가 1 이상일 때\n",
    "            radius -= 1\n",
    "    \n",
    "    cv2.imshow('img', src_img) # 점이 찍힌 이미지를 출력\n",
    "\n",
    "cv2.namedWindow('img')\n",
    "cv2.setMouseCallback('img', mouse_handler)\n",
    "cv2.imshow('img', src_img)\n",
    "cv2.waitKey(0)\n",
    "cv2.destroyAllWindows()"
   ]
  }
 ],
 "metadata": {
  "kernelspec": {
   "display_name": "Python 3 (ipykernel)",
   "language": "python",
   "name": "python3"
  },
  "language_info": {
   "codemirror_mode": {
    "name": "ipython",
    "version": 3
   },
   "file_extension": ".py",
   "mimetype": "text/x-python",
   "name": "python",
   "nbconvert_exporter": "python",
   "pygments_lexer": "ipython3",
   "version": "3.9.7"
  }
 },
 "nbformat": 4,
 "nbformat_minor": 5
}
