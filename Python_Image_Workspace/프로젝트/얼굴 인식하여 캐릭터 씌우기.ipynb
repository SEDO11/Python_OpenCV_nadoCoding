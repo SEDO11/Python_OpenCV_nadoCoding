{
 "cells": [
  {
   "cell_type": "markdown",
   "id": "cdd131af",
   "metadata": {},
   "source": [
    "# 프로젝트 : 얼굴을 인식하여 캐릭터 씌우기"
   ]
  },
  {
   "cell_type": "markdown",
   "id": "68d89c09",
   "metadata": {},
   "source": [
    "## Face Detection vs Face Recognition\n",
    "얼굴의 특징으로 찾기 vs 누구인지 찾기"
   ]
  },
  {
   "cell_type": "markdown",
   "id": "b667e08e",
   "metadata": {},
   "source": [
    "## 사용하기 위한 패키지 설치 및 코드\n",
    "1. pip install mediapipe\n",
    "1. https://google.github.io/mediapipe/solutions/face_detection"
   ]
  },
  {
   "cell_type": "code",
   "execution_count": 61,
   "id": "8d0b2f37",
   "metadata": {},
   "outputs": [],
   "source": [
    "import cv2\n",
    "import mediapipe as mp\n",
    "\n",
    "def overlay(image, x, y, w, h, overlay_image): # 대상 이미지, x, y 좌표, width, height, 덮어씌울 이미지\n",
    "    alpha = overlay_image[:, :, 3] #BGRA, A값을 가져옴\n",
    "    mask_image = alpha / 255 # 0~255 ->255로 나누면 0~1의 값을 가짐, 1: 불투명, 0: 투명\n",
    "    \n",
    "    # (255, 255) -> (1, 1)\n",
    "    # (255, 0) -> (1, 0)\n",
    "    # 1 - mask_image\n",
    "    # (0, 0)\n",
    "    # (0, 1)\n",
    "    for c in range(0, 3): #BGR 처리\n",
    "        image[y-h: y+h, x-w: x+w, c] = (overlay_image[:, :, c] * mask_image) + (image[y-h: y+h, x-w: x+w, c] * (1-mask_image))\n",
    "        \n",
    "\n",
    "# 얼굴을 찾고, 찾은 얼굴에 표시를 해주기 위한 변수 정의\n",
    "mp_face_detection = mp.solutions.face_detection # 얼굴 검출을 위한 face_detection 모듈 사용\n",
    "mp_drawing = mp.solutions.drawing_utils # 얼굴의 특징을 그리기 위한 drawing_utils 사용\n",
    "\n",
    "# 동영상 파일 열기\n",
    "cap = cv2.VideoCapture('face_video2.mp4')\n",
    "\n",
    "#이미지 불러오기\n",
    "image_right_eye = cv2.imread('right_eye_cutout.png', cv2.IMREAD_UNCHANGED)\n",
    "image_left_eye = cv2.imread('left_eye_cutout.png', cv2.IMREAD_UNCHANGED)\n",
    "image_nose_tip = cv2.imread('nose_tip_cutout.png', cv2.IMREAD_UNCHANGED)\n",
    "#자동으로 자원해제\n",
    "with mp_face_detection.FaceDetection(\n",
    "    # model_selection=0은 2m 이내 거리의 얼굴,model_selection=1 5m 이내 거리의 얼굴\n",
    "    # min_detection_confidence=0.5 50% 정도의 신뢰도로 얼굴 같으면 얼굴로 표현\n",
    "    model_selection=0, min_detection_confidence=0.7) as face_detection:\n",
    "    while cap.isOpened():\n",
    "        success, image = cap.read()\n",
    "        if not success:\n",
    "            break\n",
    "\n",
    "        # To improve performance, optionally mark the image as not writeable to\n",
    "        # pass by reference.\n",
    "        image.flags.writeable = False\n",
    "        image = cv2.cvtColor(image, cv2.COLOR_BGR2RGB) #BGR을 RGB로 변환\n",
    "        results = face_detection.process(image) # 얼굴 검출\n",
    "\n",
    "        # Draw the face detection annotations on the image.\n",
    "        image.flags.writeable = True\n",
    "        image = cv2.cvtColor(image, cv2.COLOR_RGB2BGR) #RGB을 BGR로 변환\n",
    "        \n",
    "        # 얼굴이 검출 될 경우, 네모를 그리고 빨간 점을 찍음\n",
    "        if results.detections: \n",
    "            # 점찍는 부분 : 오른쪽 눈, 왼쪽 눈, 코 끝부분, 입 중심, 오른쪽 귀, 왼쪽 귀\n",
    "            for detection in results.detections:\n",
    "                mp_drawing.draw_detection(image, detection)\n",
    "                #print(detection)\n",
    "                \n",
    "                #특정 위치 가져오기\n",
    "                keypoints = detection.location_data.relative_keypoints\n",
    "                right_eye = keypoints[0] # 오른쪽 눈\n",
    "                left_eye = keypoints[1] # 왼쪽 눈\n",
    "                nose_tip = keypoints[2] # 코 끝 부분\n",
    "                \n",
    "                h, w, _ = image.shape # height, width, channel\n",
    "                right_eye = (int(right_eye.x * w)-50, int(right_eye.y * h)-200)\n",
    "                left_eye = (int(left_eye.x * w)+50, int(left_eye.y * h)-200)\n",
    "                nose_tip = (int(nose_tip.x * w), int(nose_tip.y * h)+150)\n",
    "                # 양 눈에 동그라미 그리기\n",
    "#                 cv2.circle(image, right_eye, 50, (255, 0, 0), 10, cv2.LINE_AA) # 파란색\n",
    "#                 cv2.circle(image, left_eye, 50, (0, 0, 255), 10, cv2.LINE_AA) # 빨간색\n",
    "#                 cv2.circle(image, nose_tip, 70, (0, 255, 0), 10, cv2.LINE_AA) # 빨간색\n",
    "                \n",
    "                # 이미지 추가\n",
    "#                 image[right_eye[1]-100:right_eye[1]+100, right_eye[0]-100:right_eye[0]+100] = image_right_eye# 위로 50, 밑으로 50 / 세로, 가로\n",
    "#                 image[left_eye[1]-100:left_eye[1]+100, left_eye[0]-100:left_eye[0]+100] = image_left_eye\n",
    "#                 image[nose_tip[1]-200:nose_tip[1]+200, nose_tip[0]-200:nose_tip[0]+200] = image_nose_tip\n",
    "                 \n",
    "                overlay(image, *right_eye, 100, 100, image_right_eye)\n",
    "                overlay(image, *left_eye, 100, 100, image_left_eye)\n",
    "                overlay(image, *nose_tip,200, 200, image_nose_tip)\n",
    "        # Flip the image horizontally for a selfie-view display.\n",
    "        cv2.imshow('MediaPipe Face Detection',cv2.resize(image, None, fx=0.3, fy=0.3))\n",
    "    \n",
    "        if cv2.waitKey(1) == ord('q'):\n",
    "            break\n",
    "cap.release()\n",
    "cv2.destroyAllWindows()"
   ]
  },
  {
   "cell_type": "markdown",
   "id": "4086a326",
   "metadata": {},
   "source": [
    "## 배경 없는 부분 투명화를 위해 없는 부분도 이미지 정보 추출하는 것"
   ]
  },
  {
   "cell_type": "code",
   "execution_count": 53,
   "id": "f527fdbd",
   "metadata": {},
   "outputs": [
    {
     "data": {
      "text/plain": [
       "(200, 200, 3)"
      ]
     },
     "execution_count": 53,
     "metadata": {},
     "output_type": "execute_result"
    }
   ],
   "source": [
    "image1 = cv2.imread('right_eye.png', cv2.IMREAD_UNCHANGED)\n",
    "image_right_eye.shape"
   ]
  },
  {
   "cell_type": "code",
   "execution_count": null,
   "id": "e988adc6",
   "metadata": {},
   "outputs": [],
   "source": []
  }
 ],
 "metadata": {
  "kernelspec": {
   "display_name": "Python 3 (ipykernel)",
   "language": "python",
   "name": "python3"
  },
  "language_info": {
   "codemirror_mode": {
    "name": "ipython",
    "version": 3
   },
   "file_extension": ".py",
   "mimetype": "text/x-python",
   "name": "python",
   "nbconvert_exporter": "python",
   "pygments_lexer": "ipython3",
   "version": "3.9.7"
  }
 },
 "nbformat": 4,
 "nbformat_minor": 5
}
